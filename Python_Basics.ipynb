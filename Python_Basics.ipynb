{
  "nbformat": 4,
  "nbformat_minor": 0,
  "metadata": {
    "colab": {
      "provenance": []
    },
    "kernelspec": {
      "name": "python3",
      "display_name": "Python 3"
    },
    "language_info": {
      "name": "python"
    }
  },
  "cells": [
    {
      "cell_type": "markdown",
      "source": [
        "Python Basics (THOERY QUESTION AND ANSWER)"
      ],
      "metadata": {
        "id": "6DFUlTbJAW_v"
      }
    },
    {
      "cell_type": "markdown",
      "source": [
        "1.What is python and why it is popular?\n",
        "\n",
        "Ans.Python is a programming language that is easy to understand and write,which is definitely making it as a popular choice among developers and programmers.\n",
        "It is compatible with various programming models, such as procedural, object-oriented, and functional programming.\n",
        "Python has a large and active community of developers, an extensive standard library, and third-party packages for various domains.\n",
        "\n",
        "2.What is an interpreter in python?\n",
        "\n",
        "Ans.In python,an interpreter is a program that reads and executes python code line by line, translating it into machine-readable instructions for the computer to understand.\n",
        "\n",
        "3.What are the predefined keywords in python?\n",
        "\n",
        "Ans.There are various predefined keywords in python.They are mainly true,false,continue,try ,while,with,class,del,for,if etc\n",
        "\n",
        "4.Can keywords be used in variable names?\n",
        "\n",
        "Ans.No, we cannot use python keywords as variable names because they are reserved words with specific meanings in the language's syntax.\n",
        "\n",
        "5.What is mutability in python?\n",
        "\n",
        "Ans.In Python, objects can be either changeable (modifiable) or unchangeable (not modifiable).\n",
        "Mutable objects, such as lists and dictionaries, can be modified after creation.\n",
        "\n",
        "6.Why are lists mutable, but tuples are immutable?\n",
        "\n",
        "Ans.Lists are mutable in Python, allowing their contents to be changed, added to, or removed from after creation. This flexibility makes lists suitable for scenarios where data modification is necessary.\n",
        "\n",
        "In contrast, tuples are immutable, meaning their contents cannot be altered once they are created. This immutability ensures data integrity and prevents unintended modifications, making tuples ideal for storing fixed data or constants.\n",
        "\n",
        "7.What is the difference between “==” and “is” operators in Python?\n",
        "\n",
        "Ans.In Python, the == operator is used to compare the values of two objects, returning True if the values are equal and False otherwise.\n",
        " On the other hand, the is operator checks if two variables point to the same object in memory, returning True if they do and False if they do not.\n",
        "\n",
        " 8.What are logical operators in Python?\n",
        "\n",
        " Ans.In Python, logical operators carry out logical operations and return Boolean values based on the result. We need to verify multiple conditions simultaneously or use logical operators by combining multiple conditions in some cases. There are three types of logical operators in Python:\n",
        "A.And Operator\n",
        "B.Or Operator\n",
        "C.Not Operator.\n",
        "\n",
        "9.What is type casting in Python?\n",
        "\n",
        "Ans.Type casting, also referred to as type conversion, is the process of changing one data type to another in Python.\n",
        "Python provides built-in functions for type casting, such as int(), float(), str(), list(), tuple(), dict(), etc.\n",
        "\n",
        "10.What is the difference between implicit and explicit type casting?\n",
        "\n",
        "Ans. In programming, type casting involves changing the data type of a variable from one type to another. Implicit type casting happens automatically when the compiler encounters a mixed data type expression and can safely convert the types without losing precision or data. For example, when an integer is assigned to a floating-point variable, the integer is implicitly converted to a float.\n",
        "\n",
        "Explicit type casting, on the other hand, requires manual intervention by the programmer. It involves using a type casting operator to force the conversion from one data type to another. This is necessary when the compiler cannot safely perform the conversion automatically, such as when converting a float to an integer, which may result in losing the decimal part of the number.\n",
        "\n",
        "11.What is the purpose of conditional statements in Python?\n",
        "\n",
        "Ans.Conditional statements in Python are used to execute specific blocks of code based on the truth value of a condition, allowing the program to behave differently in different situations.These statements help control the flow of a program, enabling dynamic decision-making and branching in programming.Common conditional statements include if, elif, and else.\n",
        "\n",
        "12.How does the elif statement work?\n",
        "\n",
        "Ans.In Python, the elif statement, short for \"else if,\" is used to check for additional conditions after an if statement has been evaluated as false. It allows you to specify multiple conditions sequentially, executing different code blocks based on which condition is met first.\n",
        "\n",
        "13.What is the difference between for and while loops?\n",
        "\n",
        "Ans.The primary difference between for and while loops lies in their use cases and how they handle iterations.\n",
        "\n",
        "For loops are typically used when the number of iterations is known in advance, often iterating over elements using functions like range or directly over iterable objects such as lists, tuples, or dictionaries.\n",
        "\n",
        "While loops are more flexible and are used when the number of iterations is not known in advance or depends on a condition that needs to be checked at each iteration.\n",
        "\n",
        "14.Describe a scenario where a while loop is more suitable than a for loop.\n",
        "\n",
        "Ans.A while loop is more suitable than a for loop when you do not know the number of iterations needed in advance.\n",
        "\n",
        "For example-If we want to ask a user to put an input between 1 and 10,in such scenarios, the condition for the loop to continue is based on user input or an unpredictable event, making a while loop more appropriate because it continues to execute as long as the condition remains true, without requiring a predefined number of iterations.\n",
        "\n"
      ],
      "metadata": {
        "id": "FnPeXx-iAfy2"
      }
    },
    {
      "cell_type": "markdown",
      "source": [
        "Python Basics. (PRACTICAL QUESTION AND ANSWER)"
      ],
      "metadata": {
        "id": "fBYq9C5HfLC8"
      }
    },
    {
      "cell_type": "markdown",
      "source": [
        "1.Write a Python program to print \"Hello, World!_"
      ],
      "metadata": {
        "id": "KBPiYGjbfeY-"
      }
    },
    {
      "cell_type": "code",
      "source": [
        "print(\"Hello,World\")"
      ],
      "metadata": {
        "colab": {
          "base_uri": "https://localhost:8080/"
        },
        "id": "YXFeQ6NOfnrh",
        "outputId": "c0995019-2200-45ce-e495-91f5288bc924"
      },
      "execution_count": 2,
      "outputs": [
        {
          "output_type": "stream",
          "name": "stdout",
          "text": [
            "Hello,World\n"
          ]
        }
      ]
    },
    {
      "cell_type": "markdown",
      "source": [
        "2.Write a Python program that displays your name and age."
      ],
      "metadata": {
        "id": "mDXmtsDmf2Zx"
      }
    },
    {
      "cell_type": "code",
      "source": [
        "name = \"Srestha\"\n",
        "name\n"
      ],
      "metadata": {
        "colab": {
          "base_uri": "https://localhost:8080/",
          "height": 35
        },
        "id": "9rvdZON3f_Q-",
        "outputId": "0d4f8c1c-26a9-4832-83ab-1b820c82598f"
      },
      "execution_count": 10,
      "outputs": [
        {
          "output_type": "execute_result",
          "data": {
            "text/plain": [
              "'Srestha'"
            ],
            "application/vnd.google.colaboratory.intrinsic+json": {
              "type": "string"
            }
          },
          "metadata": {},
          "execution_count": 10
        }
      ]
    },
    {
      "cell_type": "code",
      "source": [
        "age = \"21\"\n",
        "age"
      ],
      "metadata": {
        "colab": {
          "base_uri": "https://localhost:8080/",
          "height": 35
        },
        "id": "s5zcv3dHhydD",
        "outputId": "d2ae52d0-c04d-484f-c6b2-afb06900d730"
      },
      "execution_count": 11,
      "outputs": [
        {
          "output_type": "execute_result",
          "data": {
            "text/plain": [
              "'21'"
            ],
            "application/vnd.google.colaboratory.intrinsic+json": {
              "type": "string"
            }
          },
          "metadata": {},
          "execution_count": 11
        }
      ]
    },
    {
      "cell_type": "markdown",
      "source": [
        "3.Write code to print all the pre-defined keywords in Python using the keyword library."
      ],
      "metadata": {
        "id": "vqwvlhtKh83Z"
      }
    },
    {
      "cell_type": "code",
      "source": [
        "help ('keywords')"
      ],
      "metadata": {
        "colab": {
          "base_uri": "https://localhost:8080/"
        },
        "id": "Kvio9MFWjrKd",
        "outputId": "3b7bcc31-67c4-4e00-f19c-62b8eb5d0f83"
      },
      "execution_count": 14,
      "outputs": [
        {
          "output_type": "stream",
          "name": "stdout",
          "text": [
            "\n",
            "Here is a list of the Python keywords.  Enter any keyword to get more help.\n",
            "\n",
            "False               class               from                or\n",
            "None                continue            global              pass\n",
            "True                def                 if                  raise\n",
            "and                 del                 import              return\n",
            "as                  elif                in                  try\n",
            "assert              else                is                  while\n",
            "async               except              lambda              with\n",
            "await               finally             nonlocal            yield\n",
            "break               for                 not                 \n",
            "\n"
          ]
        }
      ]
    },
    {
      "cell_type": "markdown",
      "source": [
        "4.Write a program that checks if a given word is a Python keyword."
      ],
      "metadata": {
        "id": "K48DML7Zlu6I"
      }
    },
    {
      "cell_type": "code",
      "source": [
        "a = True\n",
        "type(a)"
      ],
      "metadata": {
        "colab": {
          "base_uri": "https://localhost:8080/"
        },
        "id": "0KefsVpHl-z1",
        "outputId": "2e06aca2-ee15-4706-d6e8-3e83de78257f"
      },
      "execution_count": 15,
      "outputs": [
        {
          "output_type": "execute_result",
          "data": {
            "text/plain": [
              "bool"
            ]
          },
          "metadata": {},
          "execution_count": 15
        }
      ]
    },
    {
      "cell_type": "code",
      "source": [
        "b = False\n",
        "type(b)"
      ],
      "metadata": {
        "colab": {
          "base_uri": "https://localhost:8080/"
        },
        "id": "iDPOvUUim_YR",
        "outputId": "88bfe6e7-191f-43ac-9531-f9ac1631c14a"
      },
      "execution_count": 16,
      "outputs": [
        {
          "output_type": "execute_result",
          "data": {
            "text/plain": [
              "bool"
            ]
          },
          "metadata": {},
          "execution_count": 16
        }
      ]
    },
    {
      "cell_type": "code",
      "source": [
        "True-False #as we know value of true is 1 and value of false is 0."
      ],
      "metadata": {
        "colab": {
          "base_uri": "https://localhost:8080/"
        },
        "id": "n4aHkzWKnGxo",
        "outputId": "123e9df2-153c-4da0-a872-ab78d30d7bf6"
      },
      "execution_count": 17,
      "outputs": [
        {
          "output_type": "execute_result",
          "data": {
            "text/plain": [
              "1"
            ]
          },
          "metadata": {},
          "execution_count": 17
        }
      ]
    },
    {
      "cell_type": "code",
      "source": [
        "True*False"
      ],
      "metadata": {
        "colab": {
          "base_uri": "https://localhost:8080/"
        },
        "id": "3frTw3sknRb8",
        "outputId": "3aabc641-5cef-4c82-9cd8-3a5076381bdc"
      },
      "execution_count": 18,
      "outputs": [
        {
          "output_type": "execute_result",
          "data": {
            "text/plain": [
              "0"
            ]
          },
          "metadata": {},
          "execution_count": 18
        }
      ]
    },
    {
      "cell_type": "code",
      "source": [
        "c = None\n",
        "c"
      ],
      "metadata": {
        "id": "6Ccuzzcao2mN"
      },
      "execution_count": 25,
      "outputs": []
    },
    {
      "cell_type": "code",
      "source": [
        "type(c)"
      ],
      "metadata": {
        "colab": {
          "base_uri": "https://localhost:8080/"
        },
        "id": "aS_4csF6o8EH",
        "outputId": "4e9361fd-3b90-4f44-d957-c6b421a4cb37"
      },
      "execution_count": 26,
      "outputs": [
        {
          "output_type": "execute_result",
          "data": {
            "text/plain": [
              "NoneType"
            ]
          },
          "metadata": {},
          "execution_count": 26
        }
      ]
    },
    {
      "cell_type": "markdown",
      "source": [
        "6.Write a function to demonstrate the behavior of mutable and immutable arguments."
      ],
      "metadata": {
        "id": "wb0T9FqBp7UD"
      }
    },
    {
      "cell_type": "code",
      "source": [
        "list_cont = [1,2,3,4.5,'sharon']\n",
        "list_cont"
      ],
      "metadata": {
        "colab": {
          "base_uri": "https://localhost:8080/"
        },
        "id": "BQneWuXIrmeg",
        "outputId": "f08fc6c8-fc83-44f6-dcea-a07d20a03dfc"
      },
      "execution_count": 28,
      "outputs": [
        {
          "output_type": "execute_result",
          "data": {
            "text/plain": [
              "[1, 2, 3, 4.5, 'sharon']"
            ]
          },
          "metadata": {},
          "execution_count": 28
        }
      ]
    },
    {
      "cell_type": "code",
      "source": [
        "list_cont[0]"
      ],
      "metadata": {
        "colab": {
          "base_uri": "https://localhost:8080/"
        },
        "id": "L9K4ntVJrw3j",
        "outputId": "fdcfaf6b-b9db-4cd3-b33a-07b8c156c745"
      },
      "execution_count": 29,
      "outputs": [
        {
          "output_type": "execute_result",
          "data": {
            "text/plain": [
              "1"
            ]
          },
          "metadata": {},
          "execution_count": 29
        }
      ]
    },
    {
      "cell_type": "code",
      "source": [
        "list_cont[4]"
      ],
      "metadata": {
        "colab": {
          "base_uri": "https://localhost:8080/",
          "height": 35
        },
        "id": "0HTvzxg_sLcs",
        "outputId": "76630da9-243c-4002-cfa0-2d43ac792115"
      },
      "execution_count": 31,
      "outputs": [
        {
          "output_type": "execute_result",
          "data": {
            "text/plain": [
              "'sharon'"
            ],
            "application/vnd.google.colaboratory.intrinsic+json": {
              "type": "string"
            }
          },
          "metadata": {},
          "execution_count": 31
        }
      ]
    },
    {
      "cell_type": "code",
      "source": [
        "#Mutability\n",
        "list_cont[4]= ['Roy']"
      ],
      "metadata": {
        "id": "SeE4ccLasQOs"
      },
      "execution_count": 32,
      "outputs": []
    },
    {
      "cell_type": "code",
      "source": [
        "list_cont"
      ],
      "metadata": {
        "colab": {
          "base_uri": "https://localhost:8080/"
        },
        "id": "OhXGBFU0sn2X",
        "outputId": "6dbc8f42-ca2b-4b1f-99ed-3a71b537c836"
      },
      "execution_count": 33,
      "outputs": [
        {
          "output_type": "execute_result",
          "data": {
            "text/plain": [
              "[1, 2, 3, 4.5, ['Roy']]"
            ]
          },
          "metadata": {},
          "execution_count": 33
        }
      ]
    },
    {
      "cell_type": "code",
      "source": [
        "#Immutability\n",
        "a = \"Pwskills\"\n",
        "a"
      ],
      "metadata": {
        "colab": {
          "base_uri": "https://localhost:8080/",
          "height": 35
        },
        "id": "O0tThHLBsret",
        "outputId": "c2d82492-a515-4cb5-e947-3d9a0554c336"
      },
      "execution_count": 35,
      "outputs": [
        {
          "output_type": "execute_result",
          "data": {
            "text/plain": [
              "'Pwskills'"
            ],
            "application/vnd.google.colaboratory.intrinsic+json": {
              "type": "string"
            }
          },
          "metadata": {},
          "execution_count": 35
        }
      ]
    },
    {
      "cell_type": "code",
      "source": [
        "a[0]"
      ],
      "metadata": {
        "colab": {
          "base_uri": "https://localhost:8080/",
          "height": 35
        },
        "id": "qroBqgUbta1u",
        "outputId": "907b51f7-9377-4ff6-dccc-a0787500e646"
      },
      "execution_count": 36,
      "outputs": [
        {
          "output_type": "execute_result",
          "data": {
            "text/plain": [
              "'P'"
            ],
            "application/vnd.google.colaboratory.intrinsic+json": {
              "type": "string"
            }
          },
          "metadata": {},
          "execution_count": 36
        }
      ]
    },
    {
      "cell_type": "code",
      "source": [
        "a[0]= \"u\" #in immutability it cannot be changed."
      ],
      "metadata": {
        "colab": {
          "base_uri": "https://localhost:8080/",
          "height": 141
        },
        "id": "jtsZNCsotlth",
        "outputId": "b70eee38-6c96-4938-ee70-e1c33ab7f7f6"
      },
      "execution_count": 37,
      "outputs": [
        {
          "output_type": "error",
          "ename": "TypeError",
          "evalue": "'str' object does not support item assignment",
          "traceback": [
            "\u001b[0;31m---------------------------------------------------------------------------\u001b[0m",
            "\u001b[0;31mTypeError\u001b[0m                                 Traceback (most recent call last)",
            "\u001b[0;32m<ipython-input-37-1e73b8196114>\u001b[0m in \u001b[0;36m<cell line: 0>\u001b[0;34m()\u001b[0m\n\u001b[0;32m----> 1\u001b[0;31m \u001b[0ma\u001b[0m\u001b[0;34m[\u001b[0m\u001b[0;36m0\u001b[0m\u001b[0;34m]\u001b[0m\u001b[0;34m=\u001b[0m \u001b[0;34m\"u\"\u001b[0m\u001b[0;34m\u001b[0m\u001b[0;34m\u001b[0m\u001b[0m\n\u001b[0m",
            "\u001b[0;31mTypeError\u001b[0m: 'str' object does not support item assignment"
          ]
        }
      ]
    },
    {
      "cell_type": "markdown",
      "source": [
        "8.Write a program to demonstrate the use of logical operators."
      ],
      "metadata": {
        "id": "wMQTXRilt9wl"
      }
    },
    {
      "cell_type": "code",
      "source": [
        "#There are mainly And and or operator\n",
        "#Logical And Operator\n",
        "True and True"
      ],
      "metadata": {
        "colab": {
          "base_uri": "https://localhost:8080/"
        },
        "id": "FMmAr7GEvlmQ",
        "outputId": "50877fd4-c0b0-4993-e074-67c7df6f6102"
      },
      "execution_count": 39,
      "outputs": [
        {
          "output_type": "execute_result",
          "data": {
            "text/plain": [
              "True"
            ]
          },
          "metadata": {},
          "execution_count": 39
        }
      ]
    },
    {
      "cell_type": "code",
      "source": [
        "True and False"
      ],
      "metadata": {
        "colab": {
          "base_uri": "https://localhost:8080/"
        },
        "id": "OnJ07WSYwCHS",
        "outputId": "a3e36f45-3969-4d80-b063-4fc1c67c5abe"
      },
      "execution_count": 40,
      "outputs": [
        {
          "output_type": "execute_result",
          "data": {
            "text/plain": [
              "False"
            ]
          },
          "metadata": {},
          "execution_count": 40
        }
      ]
    },
    {
      "cell_type": "code",
      "source": [
        "False and True"
      ],
      "metadata": {
        "colab": {
          "base_uri": "https://localhost:8080/"
        },
        "id": "B4W0UujAwGeO",
        "outputId": "fcba07dc-885c-4041-f583-4b71ff829954"
      },
      "execution_count": 41,
      "outputs": [
        {
          "output_type": "execute_result",
          "data": {
            "text/plain": [
              "False"
            ]
          },
          "metadata": {},
          "execution_count": 41
        }
      ]
    },
    {
      "cell_type": "code",
      "source": [
        "False and False"
      ],
      "metadata": {
        "colab": {
          "base_uri": "https://localhost:8080/"
        },
        "id": "JAT5lhWmwPfa",
        "outputId": "41ebc3c1-3df6-492c-c0f8-bc4d2f2b53dd"
      },
      "execution_count": 42,
      "outputs": [
        {
          "output_type": "execute_result",
          "data": {
            "text/plain": [
              "False"
            ]
          },
          "metadata": {},
          "execution_count": 42
        }
      ]
    },
    {
      "cell_type": "code",
      "source": [
        "#Logical Or Operator\n",
        "True or True"
      ],
      "metadata": {
        "colab": {
          "base_uri": "https://localhost:8080/"
        },
        "id": "tX5pO56rwUHj",
        "outputId": "b97308cd-1979-4933-c815-b11e2ac936ac"
      },
      "execution_count": 43,
      "outputs": [
        {
          "output_type": "execute_result",
          "data": {
            "text/plain": [
              "True"
            ]
          },
          "metadata": {},
          "execution_count": 43
        }
      ]
    },
    {
      "cell_type": "code",
      "source": [
        "True or False"
      ],
      "metadata": {
        "colab": {
          "base_uri": "https://localhost:8080/"
        },
        "id": "zLGp8ORKwgCd",
        "outputId": "c9f2bb26-cb14-4774-fb6a-5c8165261ff9"
      },
      "execution_count": 44,
      "outputs": [
        {
          "output_type": "execute_result",
          "data": {
            "text/plain": [
              "True"
            ]
          },
          "metadata": {},
          "execution_count": 44
        }
      ]
    },
    {
      "cell_type": "code",
      "source": [
        "False or True"
      ],
      "metadata": {
        "colab": {
          "base_uri": "https://localhost:8080/"
        },
        "id": "5PEy817wwkvu",
        "outputId": "8bc9c77b-f97b-4c98-ba49-4e35a092eddf"
      },
      "execution_count": 45,
      "outputs": [
        {
          "output_type": "execute_result",
          "data": {
            "text/plain": [
              "True"
            ]
          },
          "metadata": {},
          "execution_count": 45
        }
      ]
    },
    {
      "cell_type": "code",
      "source": [
        "False or False"
      ],
      "metadata": {
        "colab": {
          "base_uri": "https://localhost:8080/"
        },
        "id": "rkbP6-wiwoql",
        "outputId": "c3d3a65a-979d-46eb-f338-3dee0e4d0176"
      },
      "execution_count": 46,
      "outputs": [
        {
          "output_type": "execute_result",
          "data": {
            "text/plain": [
              "False"
            ]
          },
          "metadata": {},
          "execution_count": 46
        }
      ]
    },
    {
      "cell_type": "markdown",
      "source": [
        "9.Write a Python program to convert user input from string to integer, float, and boolean types."
      ],
      "metadata": {
        "id": "C_BSLyF2w77T"
      }
    },
    {
      "cell_type": "code",
      "source": [
        "#converting string to integer\n",
        "a = \"2\"\n",
        "b = 3\n",
        "a+b"
      ],
      "metadata": {
        "colab": {
          "base_uri": "https://localhost:8080/",
          "height": 176
        },
        "id": "ZXbbMtzyxHg-",
        "outputId": "c540df3e-cf62-4b3a-9502-401e3694af89"
      },
      "execution_count": 47,
      "outputs": [
        {
          "output_type": "error",
          "ename": "TypeError",
          "evalue": "can only concatenate str (not \"int\") to str",
          "traceback": [
            "\u001b[0;31m---------------------------------------------------------------------------\u001b[0m",
            "\u001b[0;31mTypeError\u001b[0m                                 Traceback (most recent call last)",
            "\u001b[0;32m<ipython-input-47-4f4544caf905>\u001b[0m in \u001b[0;36m<cell line: 0>\u001b[0;34m()\u001b[0m\n\u001b[1;32m      2\u001b[0m \u001b[0ma\u001b[0m \u001b[0;34m=\u001b[0m \u001b[0;34m\"2\"\u001b[0m\u001b[0;34m\u001b[0m\u001b[0;34m\u001b[0m\u001b[0m\n\u001b[1;32m      3\u001b[0m \u001b[0mb\u001b[0m \u001b[0;34m=\u001b[0m \u001b[0;36m3\u001b[0m\u001b[0;34m\u001b[0m\u001b[0;34m\u001b[0m\u001b[0m\n\u001b[0;32m----> 4\u001b[0;31m \u001b[0ma\u001b[0m\u001b[0;34m+\u001b[0m\u001b[0mb\u001b[0m\u001b[0;34m\u001b[0m\u001b[0;34m\u001b[0m\u001b[0m\n\u001b[0m",
            "\u001b[0;31mTypeError\u001b[0m: can only concatenate str (not \"int\") to str"
          ]
        }
      ]
    },
    {
      "cell_type": "code",
      "source": [
        "a = \"2\"\n",
        "b = 3\n",
        "int(a)+b"
      ],
      "metadata": {
        "colab": {
          "base_uri": "https://localhost:8080/"
        },
        "id": "Nfj0SB3N7api",
        "outputId": "52a1be00-cd73-4c22-b3c4-98a1e7bca7ae"
      },
      "execution_count": 49,
      "outputs": [
        {
          "output_type": "execute_result",
          "data": {
            "text/plain": [
              "5"
            ]
          },
          "metadata": {},
          "execution_count": 49
        }
      ]
    },
    {
      "cell_type": "code",
      "source": [
        "#converting string to float.\n",
        "a = \"2.3\"\n",
        "type(a)"
      ],
      "metadata": {
        "colab": {
          "base_uri": "https://localhost:8080/"
        },
        "id": "wF2pwBwb7inr",
        "outputId": "379dbcc6-18d3-4286-ac7c-aca7d4828d7c"
      },
      "execution_count": 50,
      "outputs": [
        {
          "output_type": "execute_result",
          "data": {
            "text/plain": [
              "str"
            ]
          },
          "metadata": {},
          "execution_count": 50
        }
      ]
    },
    {
      "cell_type": "code",
      "source": [
        "b = float(a)\n",
        "type(b)"
      ],
      "metadata": {
        "colab": {
          "base_uri": "https://localhost:8080/"
        },
        "id": "jyyK8Az78TTd",
        "outputId": "821678d9-9883-4569-ded7-40698ca7e91b"
      },
      "execution_count": 52,
      "outputs": [
        {
          "output_type": "execute_result",
          "data": {
            "text/plain": [
              "float"
            ]
          },
          "metadata": {},
          "execution_count": 52
        }
      ]
    },
    {
      "cell_type": "code",
      "source": [
        "#string to boolean .\n",
        "a = \"True\"\n",
        "type(a)"
      ],
      "metadata": {
        "colab": {
          "base_uri": "https://localhost:8080/"
        },
        "id": "8HinKFnH8kBZ",
        "outputId": "87964ff0-6ce7-496f-bff1-b15f4f3c5cd8"
      },
      "execution_count": 53,
      "outputs": [
        {
          "output_type": "execute_result",
          "data": {
            "text/plain": [
              "str"
            ]
          },
          "metadata": {},
          "execution_count": 53
        }
      ]
    },
    {
      "cell_type": "code",
      "source": [
        "c = bool(a)\n",
        "type(c)"
      ],
      "metadata": {
        "colab": {
          "base_uri": "https://localhost:8080/"
        },
        "id": "JBp52so59LUh",
        "outputId": "9baa7a85-a831-4cbc-9093-d2d86ad74ad7"
      },
      "execution_count": 54,
      "outputs": [
        {
          "output_type": "execute_result",
          "data": {
            "text/plain": [
              "bool"
            ]
          },
          "metadata": {},
          "execution_count": 54
        }
      ]
    },
    {
      "cell_type": "markdown",
      "source": [
        "11.Write a program that checks if a number is positive, negative, or zero."
      ],
      "metadata": {
        "id": "0_I6Ct5Z9W_R"
      }
    },
    {
      "cell_type": "code",
      "source": [
        "a = 10\n",
        "if a > 100:\n",
        "    print(\"This block will be executed if a is greater than 100\")\n",
        "elif a < 100:\n",
        "    print(\"This block will be executed if a is lesser than 100\")\n",
        "else:\n",
        "    print(\"The number is equals to 100\")\n"
      ],
      "metadata": {
        "colab": {
          "base_uri": "https://localhost:8080/"
        },
        "id": "K2YRS4PT9fPL",
        "outputId": "3fbc94ed-c15b-464c-e29d-4bd0365806be"
      },
      "execution_count": 55,
      "outputs": [
        {
          "output_type": "stream",
          "name": "stdout",
          "text": [
            "This block will be executed if a is lesser than 100\n"
          ]
        }
      ]
    },
    {
      "cell_type": "markdown",
      "source": [
        "12.Write a for loop to print numbers from 1 to 10."
      ],
      "metadata": {
        "id": "KlAgyQYCBSuM"
      }
    },
    {
      "cell_type": "code",
      "source": [
        "list(range(1, 10))"
      ],
      "metadata": {
        "colab": {
          "base_uri": "https://localhost:8080/"
        },
        "id": "pb8u7I4FBXly",
        "outputId": "bb2bb485-490f-42cb-8616-52854c5d6eb2"
      },
      "execution_count": 57,
      "outputs": [
        {
          "output_type": "execute_result",
          "data": {
            "text/plain": [
              "[1, 2, 3, 4, 5, 6, 7, 8, 9]"
            ]
          },
          "metadata": {},
          "execution_count": 57
        }
      ]
    },
    {
      "cell_type": "markdown",
      "source": [
        "13.Write a Python program to find the sum of all even numbers between 1 and 50."
      ],
      "metadata": {
        "id": "wMsx-ullCGjO"
      }
    },
    {
      "cell_type": "code",
      "source": [
        "#print the even no\n",
        "for i in range(50):\n",
        "    if i%2 != 1:\n",
        "        continue\n",
        "    print(i)"
      ],
      "metadata": {
        "colab": {
          "base_uri": "https://localhost:8080/"
        },
        "id": "x3w8KFrWCci-",
        "outputId": "c86327d6-4c14-4410-9089-5e25bd2885a0"
      },
      "execution_count": 58,
      "outputs": [
        {
          "output_type": "stream",
          "name": "stdout",
          "text": [
            "1\n",
            "3\n",
            "5\n",
            "7\n",
            "9\n",
            "11\n",
            "13\n",
            "15\n",
            "17\n",
            "19\n",
            "21\n",
            "23\n",
            "25\n",
            "27\n",
            "29\n",
            "31\n",
            "33\n",
            "35\n",
            "37\n",
            "39\n",
            "41\n",
            "43\n",
            "45\n",
            "47\n",
            "49\n"
          ]
        }
      ]
    }
  ]
}